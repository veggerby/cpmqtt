{
 "cells": [
  {
   "cell_type": "markdown",
   "id": "fa059769-1eff-4ff4-95d8-eb9dc73d9ac9",
   "metadata": {},
   "source": [
    "# 0.96\" OLED Display på en ESP32 med MicroPython\n",
    "\n",
    "### Introduktion\n",
    "Denne tutorial vil vise, hvordan du tilslutter og styrer en 0.96\" OLED-skærm ved hjælp af MicroPython på en ESP32. Du vil lære at installere de nødvendige biblioteker, opsætte forbindelser og skrive kode til at vise tekst og grafik på OLED-skærmen.\n",
    "\n",
    "### Materialer\n",
    "- ESP32\n",
    "- 0.96\" OLED-skærm\n",
    "- Ledninger\n",
    "- Breadboard\n",
    "- Thonny IDE\n",
    "\n",
    "**1.Forbindelser**\n",
    "\n",
    "Forbind din OLED-skærm til din ESP32 som følger:\n",
    "\n",
    "```\n",
    "VCC til 3.3V\n",
    "GND til GND\n",
    "SCL til GP5\n",
    "SDA til GP4\n",
    "```\n",
    "\n",
    "**2. Installer nødvendige biblioteker**\n",
    "For at bruge SSD1306 OLED-skærmen med MicroPython, skal du installere micropython-ssd1306 biblioteket. Dette gøres ved at downloade filen og overføre den til din ESP32.\n",
    "\n",
    "- Download biblioteket fra MicroPython-SSD1306 GitHub.\n",
    "- I Thonny IDE, åbn \"View\" -> \"Files\".\n",
    "- Overfør ssd1306.py til din Raspberry Pi Pico."
   ]
  },
  {
   "cell_type": "markdown",
   "id": "a0018516-c1a1-4317-8862-e6f7b9e430c9",
   "metadata": {},
   "source": [
    "**3. Skriv dit første script**\n",
    "```python\n",
    "from machine import Pin, I2C\n",
    "import ssd1306\n",
    "\n",
    "# Opsætning af I2C\n",
    "i2c = I2C(0, scl=Pin(5), sda=Pin(4))\n",
    "\n",
    "# Initialisering af OLED displayet\n",
    "oled_width = 128\n",
    "oled_height = 64\n",
    "oled = ssd1306.SSD1306_I2C(oled_width, oled_height, i2c)\n",
    "\n",
    "# Ryd displayet\n",
    "oled.fill(0)\n",
    "\n",
    "# Vis en besked\n",
    "oled.text('Hello, World!', 0, 0)\n",
    "\n",
    "# Opdater displayet for at vise ændringerne\n",
    "oled.show()\n",
    "\n",
    "# Blink med den indbyggede LED for at indikere at programmet kører\n",
    "led = Pin(25, Pin.OUT)\n",
    "while True:\n",
    "    led.on()\n",
    "    sleep(1)\n",
    "    led.off()\n",
    "    sleep(1)\n",
    "```\n",
    "\n",
    "**4. Upload og kør scriptet**\n",
    "- Klik på den grønne \"Run\" knap i Thonny eller tryk F5.\n",
    "- Gem scriptet på ESP32 som main.py."
   ]
  },
  {
   "cell_type": "markdown",
   "id": "37301ffa-6a61-41fa-9008-3bf6b35425aa",
   "metadata": {},
   "source": [
    "**5. Forståelse af koden**\n",
    "- `from machine import Pin, I2C`: Importerer Pin og I2C klasserne fra `machine` modulet.\n",
    "- `import ssd1306`: Importerer SSD1306 biblioteket.\n",
    "- `i2c = I2C(0, scl=Pin(5), sda=Pin(4))`: Initialiserer I2C kommunikation på pins GP5 og GP4.\n",
    "- `oled = ssd1306.SSD1306_I2C(oled_width, oled_height, i2c)`: Initialiserer OLED displayet med dimensionerne 128x64.\n",
    "- `oled.fill(0)`: Rydder displayet.\n",
    "- `oled.text('Hello, World!', 0, 0)`: Viser teksten `'Hello, World!'` på displayet.\n",
    "- `oled.show()`: Opdaterer displayet for at vise ændringerne.\n",
    "\n",
    "**6. Ekstra opgaver**\n",
    "- Vis grafik: Tegn former som linjer, cirkler og rektangler på displayet.\n",
    "- Sensor data: Tilslut en sensor og vis dens data på OLED displayet.\n",
    "\n",
    "**Opsummering**\n",
    "Denne tutorial har vist, hvordan man tilslutter og kontrollerer en 0.96\" OLED-skærm ved hjælp af MicroPython på en ESP32. Du har lært at opsætte I2C kommunikation, initialisere displayet, og vise tekst på det. Prøv at udvide funktionaliteten ved at vise grafik og sensor data.\n",
    "\n",
    "God fornøjelse med at eksperimentere med din OLED-skærm og ESP32!"
   ]
  }
 ],
 "metadata": {
  "kernelspec": {
   "display_name": "Python 3 (ipykernel)",
   "language": "python",
   "name": "python3"
  },
  "language_info": {
   "codemirror_mode": {
    "name": "ipython",
    "version": 3
   },
   "file_extension": ".py",
   "mimetype": "text/x-python",
   "name": "python",
   "nbconvert_exporter": "python",
   "pygments_lexer": "ipython3",
   "version": "3.11.4"
  }
 },
 "nbformat": 4,
 "nbformat_minor": 5
}
