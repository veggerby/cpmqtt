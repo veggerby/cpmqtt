{
 "cells": [
  {
   "cell_type": "markdown",
   "id": "76e4acc4-fa11-4c34-9cc9-4c49774126a2",
   "metadata": {},
   "source": [
    "# BME280 Sensor på en Raspberry Pi Pico W\n",
    "\n",
    "#### Mål:\n",
    "Lær hvordan man læser data fra en BME280 sensor (temperatur, luftfugtighed og lufttryk) ved hjælp af MicroPython og Thonny IDE på en Raspberry Pi Pico W.\n",
    "\n",
    "### Trin-for-trin guide:\n",
    "\n",
    "**1. Forbind BME280 til Pico W:**\n",
    "\n",
    "- Forbind sensoren til Pico W som vist nedenfor:\n",
    "    - VCC til 3.3V\n",
    "    - GND til GND\n",
    "    - SCL til GP9 (I2C0 SCL)\n",
    "    - SDA til GP8 (I2C0 SDA)\n",
    "  \n",
    "**2. Installér nødvendige biblioteker:**\n",
    "\n",
    "- Åbn Thonny IDE.\n",
    "- Vælg din mikrocontroller:\n",
    "    - Gå til \"Tools\" menuen i Thonny og vælg \"Options\".\n",
    "    - Vælg \"Interpreter\".\n",
    "    - Vælg \"MicroPython (Raspberry Pi Pico)\" som din mikrocontroller.</br></br>\n",
    "- Installer micropython-bme280 biblioteket ved at køre følgende kommando i Thonny's REPL:\n",
    "\n",
    "\n",
    "-----\n",
    "```Python\n",
    "import upip\n",
    "upip.install('micropython-bme280')\n",
    "```\n",
    "-----"
   ]
  },
  {
   "cell_type": "markdown",
   "id": "4ed659f3-8eef-4247-8578-38814edd518f",
   "metadata": {},
   "source": [
    "**3. Skriv dit script:**\n",
    "\n",
    "- I Thonny, skriv følgende script:\n",
    "\n",
    "---\n",
    "```Python\n",
    "from machine import Pin, I2C\n",
    "from time import sleep\n",
    "import bme280\n",
    "\n",
    "# Initialiser I2C\n",
    "i2c = I2C(0, scl=Pin(9), sda=Pin(8), freq=100000)\n",
    "\n",
    "# Initialiser BME280 sensor\n",
    "bme = bme280.BME280(i2c=i2c)\n",
    "\n",
    "# Læs og print sensor data\n",
    "while True:\n",
    "    temp, pres, hum = bme.read_compensated_data()\n",
    "    temp = temp / 100  # Temperatur i grader Celsius\n",
    "    pres = pres / 25600  # Lufttryk i hPa\n",
    "    hum = hum / 1024  # Luftfugtighed i %\n",
    "\n",
    "    print(f\"Temperatur: {temp:.2f} C\")\n",
    "    print(f\"Lufttryk: {pres:.2f} hPa\")\n",
    "    print(f\"Luftfugtighed: {hum:.2f} %\")\n",
    "    \n",
    "    sleep(2)  # Vent 2 sekunder før næste måling\n",
    "```\n",
    "---"
   ]
  },
  {
   "cell_type": "markdown",
   "id": "4b110131-97b8-4fae-b45b-d798dca8a154",
   "metadata": {},
   "source": [
    "**4. Upload scriptet til Pico W:**\n",
    "   \n",
    "- Klik på den grønne \"Run\" knap i Thonny eller tryk F5.\n",
    "- Gem scriptet på Pico W som main.py, så det automatisk kører næste gang enheden starter."
   ]
  },
  {
   "cell_type": "markdown",
   "id": "b9a0c1fd-8af2-4102-9d05-dd7e5ba5875b",
   "metadata": {},
   "source": [
    "**5. Forståelse af koden:**\n",
    "   \n",
    "- `from machine import Pin, I2C`: Importerer `Pin` og `I2C` klasserne fra `machine` modulet. `Pin` bruges til at kontrollere input og output pins, og `I2C` bruges til kommunikation med I2C-enheder.\n",
    "- `from time import sleep`: Importerer `sleep` funktionen fra `time` modulet, som bruges til at skabe forsinkelser.\n",
    "- `import bme280`: Importerer BME280 biblioteket, der bruges til at interagere med BME280 sensoren.\n",
    "- `i2c = I2C(0, scl=Pin(9), sda=Pin(8), freq=100000)`: Initialiserer I2C-bussen på pins GP9 (SCL) og GP8 (SDA) med en frekvens på 100 kHz.\n",
    "- `bme = bme280.BME280(i2c=i2c)`: Initialiserer BME280 sensoren ved hjælp af I2C-bussen.\n",
    "- `while True`: Starter en uendelig løkke.\n",
    "- `temp, pres, hum = bme.read_compensated_data()`: Læser kompenserede data fra sensoren.\n",
    "- `temp = temp / 100, pres = pres / 25600, hum = hum / 1024`: Konverterer rå data til menneskeligt læsbare værdier.\n",
    "- `print(f\"Temperatur: {temp:.2f} C\")`: Udskriver temperaturen i grader Celsius.\n",
    "- `print(f\"Lufttryk: {pres:.2f} hPa\")`: Udskriver lufttrykket i hPa.\n",
    "- `print(f\"Luftfugtighed: {hum:.2f} %\")`: Udskriver luftfugtigheden i procent.\n",
    "- `sleep(2)`: Venter 2 sekunder før næste måling."
   ]
  },
  {
   "cell_type": "markdown",
   "id": "3b06c216-6fc4-45ae-b7b8-8db57662f8a2",
   "metadata": {},
   "source": [
    "**Opsummering:**\n",
    "\n",
    "Denne opgave introducerer jer til at bruge BME280 sensoren på en Raspberry Pi Pico W ved hjælp af MicroPython. I har lært at opsætte Thonny IDE, skrive et script til at læse og udskrive sensor data, og forstå den grundlæggende syntaks og funktioner i MicroPython. "
   ]
  },
  {
   "cell_type": "code",
   "execution_count": null,
   "id": "6b7899eb-93ea-478c-9f5b-543d1c3100f8",
   "metadata": {},
   "outputs": [],
   "source": []
  }
 ],
 "metadata": {
  "kernelspec": {
   "display_name": "Python 3 (ipykernel)",
   "language": "python",
   "name": "python3"
  },
  "language_info": {
   "codemirror_mode": {
    "name": "ipython",
    "version": 3
   },
   "file_extension": ".py",
   "mimetype": "text/x-python",
   "name": "python",
   "nbconvert_exporter": "python",
   "pygments_lexer": "ipython3",
   "version": "3.11.4"
  }
 },
 "nbformat": 4,
 "nbformat_minor": 5
}
