{
 "cells": [
  {
   "cell_type": "markdown",
   "id": "e4c2505a-f669-49cb-b8f9-b79873d95484",
   "metadata": {},
   "source": [
    "# LED på en Raspberry Pi Pico W\n",
    "\n",
    "#### Mål:\n",
    "Lær hvordan man kontrollerer den indbyggede LED på en Raspberry Pi Pico W ved hjælp af MicroPython og Thonny IDE.\n",
    "\n",
    "<!-- ### Trin-for-trin guide: -->\n",
    "\n",
    "**1. Forberedelse:**\n",
    "\n",
    "- Tilslut din Raspberry Pi Pico W til din computer ved hjælp af USB-kablet.\n",
    "- Åbn Thonny IDE.\n",
    "\n",
    "**2. Opsætning af Thonny IDE:**\n",
    "\n",
    "- Vælg din mikrocontroller:\n",
    "    - Gå til \"Tools\" menuen i Thonny og vælg \"Options\".\n",
    "    - Vælg \"Interpreter\".\n",
    "    - Vælg \"MicroPython (Raspberry Pi Pico)\" som din mikrocontroller."
   ]
  },
  {
   "cell_type": "markdown",
   "id": "47403b39-37fd-4ff4-acbf-328a4765087b",
   "metadata": {},
   "source": [
    "**3. Skriv dit første script:**\n",
    "\n",
    "- I Thonny, skriv følgende script:\n",
    "\n",
    "-------------------------------------\n",
    "```python\n",
    "from machine import Pin\n",
    "from time import sleep\n",
    "\n",
    "# Definer LED på pin 25\n",
    "led = Pin(\"LED\", Pin.OUT)\n",
    "\n",
    "# Blink LED'en\n",
    "while True:\n",
    "    led.on()  # Tænder LED\n",
    "    sleep(1)  # Vent i 1 sekund\n",
    "    led.off()  # Slukker LED\n",
    "    sleep(1)  # Vent i 1 sekund\n",
    "```\n",
    "-------------------------------------\n",
    "\n",
    "**4. Upload scriptet til Pico W:**\n",
    "\n",
    "- Klik på den grønne \"Run\" knap i Thonny eller tryk F5.\n",
    "- Gem scriptet på Pico W som main.py, så det automatisk kører næste gang enheden starter."
   ]
  },
  {
   "cell_type": "markdown",
   "id": "bc45e0dc-b598-4ace-97fc-05f674317910",
   "metadata": {},
   "source": [
    "**5. Forståelse af koden:**\n",
    "\n",
    "- `from machine import Pin`: Importerer `Pin` klassen fra `machine` modulet. `Pin` bruges til at kontrollere input og output pins på Pico W.\n",
    "- `from time import sleep`: Importerer `sleep` funktionen fra `time` modulet. `sleep` bruges til at skabe forsinkelser.\n",
    "- `led = Pin(\"LED\", Pin.OUT)`: Definerer den indbyggede LED som en output pin.\n",
    "- `while True`: Starter en uendelig løkke.\n",
    "- `led.on()`: Tænder LED'en.\n",
    "- `sleep(1)`: Venter i 1 sekund.\n",
    "- `led.off()`: Slukker LED'en.\n",
    "- `sleep(1)`: Venter i 1 sekund."
   ]
  },
  {
   "cell_type": "markdown",
   "id": "a9f18a6a-65c6-4f2c-a681-a72791288db4",
   "metadata": {},
   "source": [
    "**6. Ekstra opgave:**\n",
    "\n",
    "1. Ændr blinkhastigheden: Prøv at ændre værdierne i sleep funktionerne for at få LED'en til at blinke hurtigere eller langsommere.\n",
    "2. Morse kode: Lav et program, der får LED'en til at blinke i morse kode for en besked."
   ]
  },
  {
   "cell_type": "markdown",
   "id": "f88c90aa-4dff-4f6a-b5c6-1e54bce7738e",
   "metadata": {},
   "source": [
    "**Opsummering:**\n",
    "\n",
    "Denne opgave introducerer jer til at bruge den indbyggede LED på en Raspberry Pi Pico W ved hjælp af MicroPython. I har lært at opsætte Thonny IDE, skrive et simpelt script til at blinke en LED, og forstå den grundlæggende syntaks og funktioner i MicroPython. "
   ]
  }
 ],
 "metadata": {
  "kernelspec": {
   "display_name": "Python 3 (ipykernel)",
   "language": "python",
   "name": "python3"
  },
  "language_info": {
   "codemirror_mode": {
    "name": "ipython",
    "version": 3
   },
   "file_extension": ".py",
   "mimetype": "text/x-python",
   "name": "python",
   "nbconvert_exporter": "python",
   "pygments_lexer": "ipython3",
   "version": "3.11.4"
  }
 },
 "nbformat": 4,
 "nbformat_minor": 5
}
