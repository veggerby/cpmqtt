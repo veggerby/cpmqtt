{
 "cells": [
  {
   "cell_type": "markdown",
   "id": "151594c3-c97c-486a-990c-58af57220d38",
   "metadata": {},
   "source": [
    "# LED-stribe med MicroPython på en ESP32\n",
    "### Introduktion\n",
    "Denne tutorial vil vise, hvordan du tilslutter og styrer en WS2812B LED-stribe ved hjælp af MicroPython på en ESP32. Du vil lære at installere nødvendige biblioteker, opsætte forbindelser og skrive kode til at styre LED'erne.\n",
    "\n",
    "### Materialer\n",
    "- ESP32\n",
    "- WS2812B LED-stribe\n",
    "- Ledninger\n",
    "- Ekstern strømforsyning (hvis nødvendigt)\n",
    "- Thonny IDE\n",
    "  \n",
    "**1. Forbindelser**\n",
    "\n",
    "Forbind din WS2812B LED-stribe til din ESP32 som følger:\n",
    "\n",
    "- VCC til 5V (ekstern strømforsyning eller ESP32 VBUS)\n",
    "- GND til GND\n",
    "- DIN til GP0 (eller en anden GPIO-pin)\n",
    "\n",
    "**2. Installer nødvendige biblioteker**\n",
    "\n",
    "For at bruge WS2812B LED-striben med MicroPython, skal du installere `neopixel` biblioteket. Dette bibliotek er som regel inkluderet i MicroPython-firmware til ESP32."
   ]
  },
  {
   "cell_type": "markdown",
   "id": "7f9f6b4a-419d-4da2-8d7a-7f2f8d5fbe27",
   "metadata": {},
   "source": [
    "**3. Skriv dit første script**\n",
    "\n",
    "```python\n",
    "import machine\n",
    "import neopixel\n",
    "from time import sleep\n",
    "\n",
    "# Antal LED'er i striben\n",
    "num_leds = 8\n",
    "\n",
    "# Opsætning af neopixel på GP0\n",
    "pin = machine.Pin(0, machine.Pin.OUT)\n",
    "np = neopixel.NeoPixel(pin, num_leds)\n",
    "\n",
    "# Funktion til at tænde en enkelt LED\n",
    "def set_led(index, color):\n",
    "    np[index] = color\n",
    "    np.write()\n",
    "\n",
    "# Funktion til at slukke alle LED'er\n",
    "def clear():\n",
    "    for i in range(num_leds):\n",
    "        np[i] = (0, 0, 0)\n",
    "    np.write()\n",
    "\n",
    "# Blink alle LED'er i forskellige farver\n",
    "while True:\n",
    "    for i in range(num_leds):\n",
    "        set_led(i, (255, 0, 0))  # Rød\n",
    "        sleep(0.1)\n",
    "        set_led(i, (0, 255, 0))  # Grøn\n",
    "        sleep(0.1)\n",
    "        set_led(i, (0, 0, 255))  # Blå\n",
    "        sleep(0.1)\n",
    "    clear()\n",
    "    sleep(1)\n",
    "```"
   ]
  },
  {
   "cell_type": "markdown",
   "id": "a9dfe1e3-0aa7-4aa5-b015-0f889c6c89ae",
   "metadata": {},
   "source": [
    "**4. Upload og kør scriptet**\n",
    "- Klik på den grønne \"Run\" knap i Thonny eller tryk F5.\n",
    "- Gem scriptet på ESP32 som main.py.\n",
    "\n",
    "**5. Forståelse af koden**\n",
    "- `import machine`: Importerer `machine` modulet for hardware kontrol.\n",
    "- `import neopixel`: Importerer `neopixel` biblioteket for WS2812B LED kontrol.\n",
    "- `from time import sleep`: Importerer `sleep` funktionen for at skabe forsinkelser.\n",
    "- `num_leds = 8`: Angiver antal LED'er i striben.\n",
    "- `pin = machine.Pin(0, machine.Pin.OUT)`: Initialiserer GPIO pin 0 til output.\n",
    "- `np = neopixel.NeoPixel(pin, num_leds)`: Initialiserer neopixel objektet.\n",
    "- `set_led(index, color)`: Funktion til at sætte farven på en enkelt LED.\n",
    "- `clear()`: Funktion til at slukke alle LED'er.\n",
    "- `np.write()`: Sender data til LED-striben.\n",
    "\n",
    "**6. Ekstra opgaver**\n",
    "- Farvecyklus: Lav en funktion der skifter farverne på LED'erne i en glidende overgang.\n",
    "- Sensor interaktion: Tilslut en sensor og ændr LED'ernes farver baseret på sensorens data.\n",
    "- Mønstre: Lav forskellige mønstre og animationer med LED'erne.\n",
    "\n",
    "**Opsummering**\n",
    "Denne tutorial har vist, hvordan man tilslutter og kontrollerer en WS2812B LED-stribe ved hjælp af MicroPython på en ESP32. Du har lært at opsætte neopixel biblioteket, initialisere LED-striben, og skrive kode til at styre LED'erne. Prøv at udvide funktionaliteten ved at lave farveovergange, interagere med sensorer og skabe mønstre.\n",
    "\n",
    "God fornøjelse med at eksperimentere med din WS2812B LED-stribe og ESP32!"
   ]
  },
  {
   "cell_type": "code",
   "execution_count": null,
   "id": "547a2e65-55f6-4bfe-b790-4cb3c380e25d",
   "metadata": {},
   "outputs": [],
   "source": []
  }
 ],
 "metadata": {
  "kernelspec": {
   "display_name": "",
   "name": ""
  },
  "language_info": {
   "name": ""
  }
 },
 "nbformat": 4,
 "nbformat_minor": 5
}
